{
 "cells": [
  {
   "cell_type": "code",
   "execution_count": 3,
   "metadata": {},
   "outputs": [],
   "source": [
    "import os\n",
    "\n",
    "data_dir = '../data/data'\n",
    "\n",
    "with open(os.path.join(data_dir, 'types.txt'), 'r') as f:\n",
    "    types = f.readlines()\n",
    "    # 去除换行符\n",
    "    types = [t.strip() for t in types]"
   ]
  },
  {
   "cell_type": "code",
   "execution_count": 4,
   "metadata": {},
   "outputs": [
    {
     "data": {
      "text/plain": [
       "['BEN', 'RAT', 'PST', 'BDT', 'SPT', 'DLT']"
      ]
     },
     "execution_count": 4,
     "metadata": {},
     "output_type": "execute_result"
    }
   ],
   "source": [
    "types"
   ]
  },
  {
   "cell_type": "code",
   "execution_count": 6,
   "metadata": {},
   "outputs": [],
   "source": [
    "import numpy as np\n",
    "\n",
    "data_dir = '../data/data'\n",
    "feat_dir = '../data/feat'\n",
    "model_dir = '../data/model'\n",
    "made_dir = '../data/made'\n",
    "result_dir = '../data/result'\n",
    "\n",
    "# 依次训练和预测各个恶意软件类型\n",
    "for malware_type in types:\n",
    "    combined_data = []\n",
    "    \n",
    "    for other_type in types:\n",
    "        if other_type != malware_type:\n",
    "            # 读取每种恶意软件的特征文件\n",
    "            file_path = os.path.join(feat_dir, f'{other_type}.npy')\n",
    "            data = np.load(file_path)\n",
    "            \n",
    "            # 将第31列的标签设置为0\n",
    "            data[:, 32] = 0\n",
    "            combined_data.append(data)\n",
    "    \n",
    "    # 合并所有其他类型的特征数据\n",
    "    if combined_data:\n",
    "        combined_data = np.concatenate(combined_data, axis=0)\n",
    "    \n",
    "        # 在feat_dir下创建一个名为type_not_in的文件，将数据保存进去\n",
    "        output_file_path = os.path.join(feat_dir, f'{malware_type}_not_in.npy')\n",
    "        np.save(output_file_path, combined_data)\n",
    "        \n",
    "    print()"
   ]
  },
  {
   "cell_type": "code",
   "execution_count": 9,
   "metadata": {},
   "outputs": [
    {
     "data": {
      "text/plain": [
       "'..\\\\data_BDT'"
      ]
     },
     "execution_count": 9,
     "metadata": {},
     "output_type": "execute_result"
    }
   ],
   "source": [
    "malware_type=\"BDT\"\n",
    "data_malware_type = os.path.join('..', 'data_'+malware_type)\n",
    "data_malware_type"
   ]
  },
  {
   "cell_type": "code",
   "execution_count": 10,
   "metadata": {},
   "outputs": [
    {
     "data": {
      "text/plain": [
       "'nt'"
      ]
     },
     "execution_count": 10,
     "metadata": {},
     "output_type": "execute_result"
    }
   ],
   "source": [
    "os.name"
   ]
  },
  {
   "cell_type": "code",
   "execution_count": 23,
   "metadata": {},
   "outputs": [
    {
     "data": {
      "text/plain": [
       "0"
      ]
     },
     "execution_count": 23,
     "metadata": {},
     "output_type": "execute_result"
    }
   ],
   "source": [
    "data_dir = '../data/data'\n",
    "feat_dir = '..\\\\data\\\\feat'\n",
    "model_dir = '../data/model'\n",
    "made_dir = '../data/made'\n",
    "result_dir = '../data/result'\n",
    "cuda = 0  # 设置CUDA设备为0\n",
    "malware_type=\"BEN\"\n",
    "data_malware_type=\"..\\\\data_BEN\"\n",
    "os.system(f'copy {feat_dir}\\\\{malware_type}.npy {data_malware_type}\\\\ma.npy')"
   ]
  },
  {
   "cell_type": "code",
   "execution_count": 3,
   "metadata": {},
   "outputs": [
    {
     "ename": "KeyboardInterrupt",
     "evalue": "",
     "output_type": "error",
     "traceback": [
      "\u001b[1;31m---------------------------------------------------------------------------\u001b[0m",
      "\u001b[1;31mKeyboardInterrupt\u001b[0m                         Traceback (most recent call last)",
      "Cell \u001b[1;32mIn[3], line 6\u001b[0m\n\u001b[0;32m      3\u001b[0m \u001b[38;5;66;03m# 创建或修改环境变量\u001b[39;00m\n\u001b[0;32m      4\u001b[0m os\u001b[38;5;241m.\u001b[39menviron[\u001b[38;5;124m'\u001b[39m\u001b[38;5;124mRESULT_DIR\u001b[39m\u001b[38;5;124m'\u001b[39m] \u001b[38;5;241m=\u001b[39m \u001b[38;5;124m'\u001b[39m\u001b[38;5;124m/path/to/result/dir\u001b[39m\u001b[38;5;124m'\u001b[39m\n\u001b[1;32m----> 6\u001b[0m \u001b[38;5;28;01mwhile\u001b[39;00m(\u001b[38;5;241m1\u001b[39m):\n\u001b[0;32m      7\u001b[0m     \u001b[38;5;28;01mpass\u001b[39;00m\n",
      "\u001b[1;31mKeyboardInterrupt\u001b[0m: "
     ]
    }
   ],
   "source": [
    "import os\n",
    "\n",
    "# 创建或修改环境变量\n",
    "os.environ['RESULT_DIR'] = '/path/to/result/dir'\n",
    "\n",
    "while(1):\n",
    "    pass"
   ]
  },
  {
   "cell_type": "code",
   "execution_count": 2,
   "metadata": {},
   "outputs": [
    {
     "data": {
      "text/plain": [
       "'/path/to/result/dir'"
      ]
     },
     "execution_count": 2,
     "metadata": {},
     "output_type": "execute_result"
    }
   ],
   "source": [
    "os.getenv('RESULT_DIR')"
   ]
  },
  {
   "cell_type": "code",
   "execution_count": null,
   "metadata": {},
   "outputs": [],
   "source": []
  },
  {
   "cell_type": "code",
   "execution_count": null,
   "metadata": {},
   "outputs": [],
   "source": []
  }
 ],
 "metadata": {
  "kernelspec": {
   "display_name": "Python 3",
   "language": "python",
   "name": "python3"
  },
  "language_info": {
   "codemirror_mode": {
    "name": "ipython",
    "version": 3
   },
   "file_extension": ".py",
   "mimetype": "text/x-python",
   "name": "python",
   "nbconvert_exporter": "python",
   "pygments_lexer": "ipython3",
   "version": "3.11.8"
  }
 },
 "nbformat": 4,
 "nbformat_minor": 2
}
