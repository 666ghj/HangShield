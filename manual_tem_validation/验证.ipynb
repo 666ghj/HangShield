{
 "cells": [
  {
   "cell_type": "code",
   "execution_count": 21,
   "metadata": {},
   "outputs": [
    {
     "data": {
      "text/plain": [
       "377"
      ]
     },
     "execution_count": 21,
     "metadata": {},
     "output_type": "execute_result"
    }
   ],
   "source": [
    "import os\n",
    "import numpy as np\n",
    "# 读取当前目录下的test.npy文件,取出每行的最后一位，即类型位，构成一个列表\n",
    "\n",
    "# 读取当前目录下的test.npy文件\n",
    "test_data = np.load('test.npy')\n",
    "# 取出每行的最后一位，即类型位，构成一个列表\n",
    "types = test_data[:, 32]\n",
    "types = types.tolist()\n",
    "# 给每一位转为int类型\n",
    "types = [int(i) for i in types]\n",
    "len(types)"
   ]
  },
  {
   "cell_type": "code",
   "execution_count": 22,
   "metadata": {},
   "outputs": [
    {
     "data": {
      "text/plain": [
       "377"
      ]
     },
     "execution_count": 22,
     "metadata": {},
     "output_type": "execute_result"
    }
   ],
   "source": [
    "# 读取当前目录下的prediction.npy文件\n",
    "prediction = np.load('prediction.npy')\n",
    "# 转为列表\n",
    "prediction = prediction.tolist()\n",
    "len(prediction)"
   ]
  },
  {
   "cell_type": "code",
   "execution_count": 23,
   "metadata": {},
   "outputs": [
    {
     "data": {
      "text/plain": [
       "0.830238726790451"
      ]
     },
     "execution_count": 23,
     "metadata": {},
     "output_type": "execute_result"
    }
   ],
   "source": [
    "# 计算准确率\n",
    "count = 0\n",
    "for i in range(len(types)):\n",
    "    if prediction[i] >=0.5 and types[i]==1:\n",
    "        count += 1\n",
    "    elif prediction[i] <0.5 and types[i]==0:\n",
    "        count += 1\n",
    "\n",
    "accuracy = count/len(types)\n",
    "accuracy"
   ]
  },
  {
   "cell_type": "code",
   "execution_count": 24,
   "metadata": {},
   "outputs": [
    {
     "data": {
      "text/plain": [
       "0.69"
      ]
     },
     "execution_count": 24,
     "metadata": {},
     "output_type": "execute_result"
    }
   ],
   "source": [
    "# 计算types为1的预测准确率\n",
    "count = 0\n",
    "for i in range(len(types)):\n",
    "    if prediction[i] >=0.5 and types[i]==1:\n",
    "        count += 1\n",
    "# count为预测正确的个数，除以types为1的个数，即为准确率\n",
    "accuracy = count/sum(types)\n",
    "accuracy"
   ]
  },
  {
   "cell_type": "code",
   "execution_count": 25,
   "metadata": {},
   "outputs": [
    {
     "data": {
      "text/plain": [
       "0.8808664259927798"
      ]
     },
     "execution_count": 25,
     "metadata": {},
     "output_type": "execute_result"
    }
   ],
   "source": [
    "# 计算types为0的预测准确率\n",
    "count = 0\n",
    "for i in range(len(types)):\n",
    "    if prediction[i] <0.5 and types[i]==0:\n",
    "        count += 1\n",
    "# count为预测正确的个数，除以types为0的个数，即为准确率\n",
    "accuracy = count/(len(types)-sum(types))\n",
    "accuracy"
   ]
  },
  {
   "cell_type": "code",
   "execution_count": null,
   "metadata": {},
   "outputs": [],
   "source": []
  }
 ],
 "metadata": {
  "kernelspec": {
   "display_name": "Python 3",
   "language": "python",
   "name": "python3"
  },
  "language_info": {
   "codemirror_mode": {
    "name": "ipython",
    "version": 3
   },
   "file_extension": ".py",
   "mimetype": "text/x-python",
   "name": "python",
   "nbconvert_exporter": "python",
   "pygments_lexer": "ipython3",
   "version": "3.11.8"
  }
 },
 "nbformat": 4,
 "nbformat_minor": 2
}
